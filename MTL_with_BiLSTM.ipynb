{
  "nbformat": 4,
  "nbformat_minor": 0,
  "metadata": {
    "colab": {
      "provenance": []
    },
    "kernelspec": {
      "name": "python3",
      "display_name": "Python 3"
    },
    "language_info": {
      "name": "python"
    }
  },
  "cells": [
    {
      "cell_type": "code",
      "source": [
        "!pip install --upgrade keras"
      ],
      "metadata": {
        "colab": {
          "base_uri": "https://localhost:8080/"
        },
        "id": "9-BXtx8oZ4Ps",
        "outputId": "503eaa69-c035-4bf5-f4c8-4ede8340a7f7"
      },
      "execution_count": null,
      "outputs": [
        {
          "output_type": "stream",
          "name": "stdout",
          "text": [
            "Looking in indexes: https://pypi.org/simple, https://us-python.pkg.dev/colab-wheels/public/simple/\n",
            "Requirement already satisfied: keras in /usr/local/lib/python3.9/dist-packages (2.12.0)\n"
          ]
        }
      ]
    },
    {
      "cell_type": "code",
      "source": [
        "import tensorflow as tf\n",
        "from tensorflow.keras.models import Model\n",
        "from tensorflow.keras.layers import Input, Embedding, Bidirectional, LSTM, Dense\n",
        "import pandas as pd"
      ],
      "metadata": {
        "id": "5NkEFpF_Vz0O"
      },
      "execution_count": null,
      "outputs": []
    },
    {
      "cell_type": "code",
      "source": [
        "df = pd.read_csv(\"https://raw.githubusercontent.com/Rohit-Annamaneni-1207/scrap_repo/main/modified_data.csv\")\n",
        "df"
      ],
      "metadata": {
        "colab": {
          "base_uri": "https://localhost:8080/",
          "height": 658
        },
        "id": "Ou-wuw-4V1Op",
        "outputId": "a4f8f2bb-9f0b-4a57-b336-d7baa7286da5"
      },
      "execution_count": null,
      "outputs": [
        {
          "output_type": "execute_result",
          "data": {
            "text/plain": [
              "       Unnamed: 0                                               text  label_f  \\\n",
              "0            2745  sir  lovehate relationship ke bare mein aap ka...        1   \n",
              "1            2773  same here he is the reason to watch bb but i c...        0   \n",
              "2             959  bhai koi iska rape kar doog main bahut khujli ...        0   \n",
              "3             955  buuma raviisha baata karaka pata laga aisa api...        1   \n",
              "4            4036  gajar mein vitamin c hoty hain jis sey aakhon ...        1   \n",
              "...           ...                                                ...      ...   \n",
              "10461        1554  bas karo aunty aaplog ka gentle rape ho chuka ...        0   \n",
              "10462         634  masti he mohl me chahi khumari he saarey thak ...        0   \n",
              "10463         970  dekhna ek din koi inke jindagi ka rape karke c...        0   \n",
              "10464        2929  aur us waqt kisi ne intolarence hai desh mein ...        0   \n",
              "10465        1302    sala khutta bajrangi bana hova kuch to sharm kr        0   \n",
              "\n",
              "       label_h  label_s                                      clean_comment  \\\n",
              "0            0        0  sir  lovehate relationship ke bare mein aap ka...   \n",
              "1            0        0  same here he is the reason to watch bb but i c...   \n",
              "2            0        0  bhai koi iska rape kar doog main bahut khujli ...   \n",
              "3            0        0  buuma raviisha baata karaka pata laga aisa api...   \n",
              "4            0        0  gajar mein vitamin c hoty hain jis sey aakhon ...   \n",
              "...        ...      ...                                                ...   \n",
              "10461        0        0  bas karo aunty aaplog ka gentle rape ho chuka ...   \n",
              "10462        0        0  masti he mohl me chahi khumari he saarey thak ...   \n",
              "10463        0        0  dekhna ek din koi inke jindagi ka rape karke c...   \n",
              "10464        0        1  aur us waqt kisi ne intolarence hai desh mein ...   \n",
              "10465        0        0    sala khutta bajrangi bana hova kuch to sharm kr   \n",
              "\n",
              "                                                  Tokens  Length  \\\n",
              "0      ['sir', 'lovehate', 'relationship', 'ke', 'bar...      13   \n",
              "1      ['same', 'here', 'he', 'is', 'the', 'reason', ...      56   \n",
              "2      ['bhai', 'koi', 'iska', 'rape', 'kar', 'doog',...      15   \n",
              "3      ['buuma', 'raviisha', 'baata', 'karaka', 'pata...       9   \n",
              "4      ['gajar', 'mein', 'vitamin', 'c', 'hoty', 'hai...      19   \n",
              "...                                                  ...     ...   \n",
              "10461  ['bas', 'karo', 'aunty', 'aaplog', 'ka', 'gent...      21   \n",
              "10462  ['masti', 'he', 'mohl', 'me', 'chahi', 'khumar...      29   \n",
              "10463  ['dekhna', 'ek', 'din', 'koi', 'inke', 'jindag...      11   \n",
              "10464  ['aur', 'us', 'waqt', 'kisi', 'ne', 'intolaren...      17   \n",
              "10465  ['sala', 'khutta', 'bajrangi', 'bana', 'hova',...       9   \n",
              "\n",
              "                                           combined_text  \n",
              "0      sir लोवेहते relationship के bare mein आप ka क्...  \n",
              "1      same here he is the reason to watch बब but i c...  \n",
              "2      भाई koi इसका rape कर दूग main bahut खुजली ho र...  \n",
              "3             बूम रवीश बात karaka pata लगा ऐसा अपील नाहा  \n",
              "4      गाजर mein vitamin c होती hain जिस sey आखों की ...  \n",
              "...                                                  ...  \n",
              "10461  bas karo आंटी आपलोग ka gentle rape ho चूका हैत...  \n",
              "10462  मस्ती he महल me चाही खुमारी he सारे थक के beth...  \n",
              "10463  देखना एक din koi इनके जिंदगी ka rape करके चला ...  \n",
              "10464  और us वक़्त किसी ne इन्टॉलरेंस है देश mein और c...  \n",
              "10465        साला खुट्टा बजरंगी बना होवा कुछ to शर्म क्र  \n",
              "\n",
              "[10466 rows x 9 columns]"
            ],
            "text/html": [
              "\n",
              "  <div id=\"df-c123a62d-cf5d-43f8-8eb2-3581930c4a7e\">\n",
              "    <div class=\"colab-df-container\">\n",
              "      <div>\n",
              "<style scoped>\n",
              "    .dataframe tbody tr th:only-of-type {\n",
              "        vertical-align: middle;\n",
              "    }\n",
              "\n",
              "    .dataframe tbody tr th {\n",
              "        vertical-align: top;\n",
              "    }\n",
              "\n",
              "    .dataframe thead th {\n",
              "        text-align: right;\n",
              "    }\n",
              "</style>\n",
              "<table border=\"1\" class=\"dataframe\">\n",
              "  <thead>\n",
              "    <tr style=\"text-align: right;\">\n",
              "      <th></th>\n",
              "      <th>Unnamed: 0</th>\n",
              "      <th>text</th>\n",
              "      <th>label_f</th>\n",
              "      <th>label_h</th>\n",
              "      <th>label_s</th>\n",
              "      <th>clean_comment</th>\n",
              "      <th>Tokens</th>\n",
              "      <th>Length</th>\n",
              "      <th>combined_text</th>\n",
              "    </tr>\n",
              "  </thead>\n",
              "  <tbody>\n",
              "    <tr>\n",
              "      <th>0</th>\n",
              "      <td>2745</td>\n",
              "      <td>sir  lovehate relationship ke bare mein aap ka...</td>\n",
              "      <td>1</td>\n",
              "      <td>0</td>\n",
              "      <td>0</td>\n",
              "      <td>sir  lovehate relationship ke bare mein aap ka...</td>\n",
              "      <td>['sir', 'lovehate', 'relationship', 'ke', 'bar...</td>\n",
              "      <td>13</td>\n",
              "      <td>sir लोवेहते relationship के bare mein आप ka क्...</td>\n",
              "    </tr>\n",
              "    <tr>\n",
              "      <th>1</th>\n",
              "      <td>2773</td>\n",
              "      <td>same here he is the reason to watch bb but i c...</td>\n",
              "      <td>0</td>\n",
              "      <td>0</td>\n",
              "      <td>0</td>\n",
              "      <td>same here he is the reason to watch bb but i c...</td>\n",
              "      <td>['same', 'here', 'he', 'is', 'the', 'reason', ...</td>\n",
              "      <td>56</td>\n",
              "      <td>same here he is the reason to watch बब but i c...</td>\n",
              "    </tr>\n",
              "    <tr>\n",
              "      <th>2</th>\n",
              "      <td>959</td>\n",
              "      <td>bhai koi iska rape kar doog main bahut khujli ...</td>\n",
              "      <td>0</td>\n",
              "      <td>0</td>\n",
              "      <td>0</td>\n",
              "      <td>bhai koi iska rape kar doog main bahut khujli ...</td>\n",
              "      <td>['bhai', 'koi', 'iska', 'rape', 'kar', 'doog',...</td>\n",
              "      <td>15</td>\n",
              "      <td>भाई koi इसका rape कर दूग main bahut खुजली ho र...</td>\n",
              "    </tr>\n",
              "    <tr>\n",
              "      <th>3</th>\n",
              "      <td>955</td>\n",
              "      <td>buuma raviisha baata karaka pata laga aisa api...</td>\n",
              "      <td>1</td>\n",
              "      <td>0</td>\n",
              "      <td>0</td>\n",
              "      <td>buuma raviisha baata karaka pata laga aisa api...</td>\n",
              "      <td>['buuma', 'raviisha', 'baata', 'karaka', 'pata...</td>\n",
              "      <td>9</td>\n",
              "      <td>बूम रवीश बात karaka pata लगा ऐसा अपील नाहा</td>\n",
              "    </tr>\n",
              "    <tr>\n",
              "      <th>4</th>\n",
              "      <td>4036</td>\n",
              "      <td>gajar mein vitamin c hoty hain jis sey aakhon ...</td>\n",
              "      <td>1</td>\n",
              "      <td>0</td>\n",
              "      <td>0</td>\n",
              "      <td>gajar mein vitamin c hoty hain jis sey aakhon ...</td>\n",
              "      <td>['gajar', 'mein', 'vitamin', 'c', 'hoty', 'hai...</td>\n",
              "      <td>19</td>\n",
              "      <td>गाजर mein vitamin c होती hain जिस sey आखों की ...</td>\n",
              "    </tr>\n",
              "    <tr>\n",
              "      <th>...</th>\n",
              "      <td>...</td>\n",
              "      <td>...</td>\n",
              "      <td>...</td>\n",
              "      <td>...</td>\n",
              "      <td>...</td>\n",
              "      <td>...</td>\n",
              "      <td>...</td>\n",
              "      <td>...</td>\n",
              "      <td>...</td>\n",
              "    </tr>\n",
              "    <tr>\n",
              "      <th>10461</th>\n",
              "      <td>1554</td>\n",
              "      <td>bas karo aunty aaplog ka gentle rape ho chuka ...</td>\n",
              "      <td>0</td>\n",
              "      <td>0</td>\n",
              "      <td>0</td>\n",
              "      <td>bas karo aunty aaplog ka gentle rape ho chuka ...</td>\n",
              "      <td>['bas', 'karo', 'aunty', 'aaplog', 'ka', 'gent...</td>\n",
              "      <td>21</td>\n",
              "      <td>bas karo आंटी आपलोग ka gentle rape ho चूका हैत...</td>\n",
              "    </tr>\n",
              "    <tr>\n",
              "      <th>10462</th>\n",
              "      <td>634</td>\n",
              "      <td>masti he mohl me chahi khumari he saarey thak ...</td>\n",
              "      <td>0</td>\n",
              "      <td>0</td>\n",
              "      <td>0</td>\n",
              "      <td>masti he mohl me chahi khumari he saarey thak ...</td>\n",
              "      <td>['masti', 'he', 'mohl', 'me', 'chahi', 'khumar...</td>\n",
              "      <td>29</td>\n",
              "      <td>मस्ती he महल me चाही खुमारी he सारे थक के beth...</td>\n",
              "    </tr>\n",
              "    <tr>\n",
              "      <th>10463</th>\n",
              "      <td>970</td>\n",
              "      <td>dekhna ek din koi inke jindagi ka rape karke c...</td>\n",
              "      <td>0</td>\n",
              "      <td>0</td>\n",
              "      <td>0</td>\n",
              "      <td>dekhna ek din koi inke jindagi ka rape karke c...</td>\n",
              "      <td>['dekhna', 'ek', 'din', 'koi', 'inke', 'jindag...</td>\n",
              "      <td>11</td>\n",
              "      <td>देखना एक din koi इनके जिंदगी ka rape करके चला ...</td>\n",
              "    </tr>\n",
              "    <tr>\n",
              "      <th>10464</th>\n",
              "      <td>2929</td>\n",
              "      <td>aur us waqt kisi ne intolarence hai desh mein ...</td>\n",
              "      <td>0</td>\n",
              "      <td>0</td>\n",
              "      <td>1</td>\n",
              "      <td>aur us waqt kisi ne intolarence hai desh mein ...</td>\n",
              "      <td>['aur', 'us', 'waqt', 'kisi', 'ne', 'intolaren...</td>\n",
              "      <td>17</td>\n",
              "      <td>और us वक़्त किसी ne इन्टॉलरेंस है देश mein और c...</td>\n",
              "    </tr>\n",
              "    <tr>\n",
              "      <th>10465</th>\n",
              "      <td>1302</td>\n",
              "      <td>sala khutta bajrangi bana hova kuch to sharm kr</td>\n",
              "      <td>0</td>\n",
              "      <td>0</td>\n",
              "      <td>0</td>\n",
              "      <td>sala khutta bajrangi bana hova kuch to sharm kr</td>\n",
              "      <td>['sala', 'khutta', 'bajrangi', 'bana', 'hova',...</td>\n",
              "      <td>9</td>\n",
              "      <td>साला खुट्टा बजरंगी बना होवा कुछ to शर्म क्र</td>\n",
              "    </tr>\n",
              "  </tbody>\n",
              "</table>\n",
              "<p>10466 rows × 9 columns</p>\n",
              "</div>\n",
              "      <button class=\"colab-df-convert\" onclick=\"convertToInteractive('df-c123a62d-cf5d-43f8-8eb2-3581930c4a7e')\"\n",
              "              title=\"Convert this dataframe to an interactive table.\"\n",
              "              style=\"display:none;\">\n",
              "        \n",
              "  <svg xmlns=\"http://www.w3.org/2000/svg\" height=\"24px\"viewBox=\"0 0 24 24\"\n",
              "       width=\"24px\">\n",
              "    <path d=\"M0 0h24v24H0V0z\" fill=\"none\"/>\n",
              "    <path d=\"M18.56 5.44l.94 2.06.94-2.06 2.06-.94-2.06-.94-.94-2.06-.94 2.06-2.06.94zm-11 1L8.5 8.5l.94-2.06 2.06-.94-2.06-.94L8.5 2.5l-.94 2.06-2.06.94zm10 10l.94 2.06.94-2.06 2.06-.94-2.06-.94-.94-2.06-.94 2.06-2.06.94z\"/><path d=\"M17.41 7.96l-1.37-1.37c-.4-.4-.92-.59-1.43-.59-.52 0-1.04.2-1.43.59L10.3 9.45l-7.72 7.72c-.78.78-.78 2.05 0 2.83L4 21.41c.39.39.9.59 1.41.59.51 0 1.02-.2 1.41-.59l7.78-7.78 2.81-2.81c.8-.78.8-2.07 0-2.86zM5.41 20L4 18.59l7.72-7.72 1.47 1.35L5.41 20z\"/>\n",
              "  </svg>\n",
              "      </button>\n",
              "      \n",
              "  <style>\n",
              "    .colab-df-container {\n",
              "      display:flex;\n",
              "      flex-wrap:wrap;\n",
              "      gap: 12px;\n",
              "    }\n",
              "\n",
              "    .colab-df-convert {\n",
              "      background-color: #E8F0FE;\n",
              "      border: none;\n",
              "      border-radius: 50%;\n",
              "      cursor: pointer;\n",
              "      display: none;\n",
              "      fill: #1967D2;\n",
              "      height: 32px;\n",
              "      padding: 0 0 0 0;\n",
              "      width: 32px;\n",
              "    }\n",
              "\n",
              "    .colab-df-convert:hover {\n",
              "      background-color: #E2EBFA;\n",
              "      box-shadow: 0px 1px 2px rgba(60, 64, 67, 0.3), 0px 1px 3px 1px rgba(60, 64, 67, 0.15);\n",
              "      fill: #174EA6;\n",
              "    }\n",
              "\n",
              "    [theme=dark] .colab-df-convert {\n",
              "      background-color: #3B4455;\n",
              "      fill: #D2E3FC;\n",
              "    }\n",
              "\n",
              "    [theme=dark] .colab-df-convert:hover {\n",
              "      background-color: #434B5C;\n",
              "      box-shadow: 0px 1px 3px 1px rgba(0, 0, 0, 0.15);\n",
              "      filter: drop-shadow(0px 1px 2px rgba(0, 0, 0, 0.3));\n",
              "      fill: #FFFFFF;\n",
              "    }\n",
              "  </style>\n",
              "\n",
              "      <script>\n",
              "        const buttonEl =\n",
              "          document.querySelector('#df-c123a62d-cf5d-43f8-8eb2-3581930c4a7e button.colab-df-convert');\n",
              "        buttonEl.style.display =\n",
              "          google.colab.kernel.accessAllowed ? 'block' : 'none';\n",
              "\n",
              "        async function convertToInteractive(key) {\n",
              "          const element = document.querySelector('#df-c123a62d-cf5d-43f8-8eb2-3581930c4a7e');\n",
              "          const dataTable =\n",
              "            await google.colab.kernel.invokeFunction('convertToInteractive',\n",
              "                                                     [key], {});\n",
              "          if (!dataTable) return;\n",
              "\n",
              "          const docLinkHtml = 'Like what you see? Visit the ' +\n",
              "            '<a target=\"_blank\" href=https://colab.research.google.com/notebooks/data_table.ipynb>data table notebook</a>'\n",
              "            + ' to learn more about interactive tables.';\n",
              "          element.innerHTML = '';\n",
              "          dataTable['output_type'] = 'display_data';\n",
              "          await google.colab.output.renderOutput(dataTable, element);\n",
              "          const docLink = document.createElement('div');\n",
              "          docLink.innerHTML = docLinkHtml;\n",
              "          element.appendChild(docLink);\n",
              "        }\n",
              "      </script>\n",
              "    </div>\n",
              "  </div>\n",
              "  "
            ]
          },
          "metadata": {},
          "execution_count": 2
        }
      ]
    },
    {
      "cell_type": "code",
      "source": [
        "X = df[\"combined_text\"].values\n",
        "X = list(X)\n",
        "X"
      ],
      "metadata": {
        "id": "SBmYDCnRWOks"
      },
      "execution_count": null,
      "outputs": []
    },
    {
      "cell_type": "code",
      "source": [
        "y_hate = df[\"label_h\"].values\n",
        "np.count_nonzero(y_hate == 1)"
      ],
      "metadata": {
        "colab": {
          "base_uri": "https://localhost:8080/"
        },
        "id": "fXjJqPxAYRih",
        "outputId": "e9ae55fc-2729-42cc-a1a6-a675f9a54ee8"
      },
      "execution_count": null,
      "outputs": [
        {
          "output_type": "execute_result",
          "data": {
            "text/plain": [
              "1801"
            ]
          },
          "metadata": {},
          "execution_count": 8
        }
      ]
    },
    {
      "cell_type": "code",
      "source": [
        "y_fake = df[\"label_f\"].values\n",
        "np.count_nonzero(y_fake == 1)"
      ],
      "metadata": {
        "colab": {
          "base_uri": "https://localhost:8080/"
        },
        "id": "IQ_K3nWgYX9z",
        "outputId": "df189edc-5982-4b9c-c778-38eb18e1992f"
      },
      "execution_count": null,
      "outputs": [
        {
          "output_type": "execute_result",
          "data": {
            "text/plain": [
              "6566"
            ]
          },
          "metadata": {},
          "execution_count": 9
        }
      ]
    },
    {
      "cell_type": "code",
      "source": [
        "from keras.preprocessing.text import Tokenizer\n",
        "import numpy as np"
      ],
      "metadata": {
        "id": "w3aorZ4-XNCr"
      },
      "execution_count": null,
      "outputs": []
    },
    {
      "cell_type": "code",
      "source": [
        "from tensorflow.keras.preprocessing.sequence import pad_sequences"
      ],
      "metadata": {
        "id": "WYWKaWXAZnwM"
      },
      "execution_count": null,
      "outputs": []
    },
    {
      "cell_type": "code",
      "source": [
        "max_words = 100\n",
        "\n",
        "tokenizer = Tokenizer(num_words=max_words)\n",
        "\n",
        "tokenizer.fit_on_texts(X)\n",
        "\n",
        "sequences = tokenizer.texts_to_sequences(X)\n",
        "\n",
        "max_sequence_length = 50\n",
        "padded_sequences = pad_sequences(sequences, maxlen=max_sequence_length, padding='post', truncating='post')"
      ],
      "metadata": {
        "id": "3qdFEt1LXFi4"
      },
      "execution_count": null,
      "outputs": []
    },
    {
      "cell_type": "code",
      "source": [
        "input_shape = (max_sequence_length,)\n",
        "\n",
        "inputs = Input(shape=input_shape, name='input_layer')\n",
        "\n",
        "embedding_size = 100 # replace with the desired embedding size\n",
        "\n",
        "vocab_size = len(tokenizer.word_index) + 1\n",
        "embedding_layer = Embedding(input_dim=vocab_size, output_dim=embedding_size, input_length=max_sequence_length)(inputs)"
      ],
      "metadata": {
        "id": "eh9M1_tWaUR5"
      },
      "execution_count": null,
      "outputs": []
    },
    {
      "cell_type": "code",
      "source": [
        "embedding_layer"
      ],
      "metadata": {
        "colab": {
          "base_uri": "https://localhost:8080/"
        },
        "id": "qYTNqywVajkQ",
        "outputId": "82a37015-e86e-4581-b6d4-6e233f9ce286"
      },
      "execution_count": null,
      "outputs": [
        {
          "output_type": "execute_result",
          "data": {
            "text/plain": [
              "<KerasTensor: shape=(None, 50, 100) dtype=float32 (created by layer 'embedding')>"
            ]
          },
          "metadata": {},
          "execution_count": 17
        }
      ]
    },
    {
      "cell_type": "code",
      "source": [
        "padded_sequences"
      ],
      "metadata": {
        "colab": {
          "base_uri": "https://localhost:8080/"
        },
        "id": "TqzlRRGaalHi",
        "outputId": "62416b71-3f3b-46fc-e474-c81173bf2c4e"
      },
      "execution_count": null,
      "outputs": [
        {
          "output_type": "execute_result",
          "data": {
            "text/plain": [
              "array([[37,  2, 58, ...,  0,  0,  0],\n",
              "       [40, 67, 11, ...,  0,  0,  0],\n",
              "       [10, 32,  4, ...,  0,  0,  0],\n",
              "       ...,\n",
              "       [28, 32,  7, ...,  0,  0,  0],\n",
              "       [16, 88, 35, ...,  0,  0,  0],\n",
              "       [98, 43, 11, ...,  0,  0,  0]], dtype=int32)"
            ]
          },
          "metadata": {},
          "execution_count": 18
        }
      ]
    },
    {
      "cell_type": "code",
      "source": [
        "lstm_units = 64\n",
        "lstm_layer = Bidirectional(LSTM(units=lstm_units, dropout=0.2, recurrent_dropout=0.2))(embedding_layer)"
      ],
      "metadata": {
        "id": "HhHXGKgRaoxH"
      },
      "execution_count": null,
      "outputs": []
    },
    {
      "cell_type": "code",
      "source": [
        "hate_output = Dense(units=1, activation='sigmoid', name='hate_output')(lstm_layer)"
      ],
      "metadata": {
        "id": "_WCRsFb4awFt"
      },
      "execution_count": null,
      "outputs": []
    },
    {
      "cell_type": "code",
      "source": [
        "fake_output = Dense(units=1, activation='sigmoid', name='fake_output')(lstm_layer)"
      ],
      "metadata": {
        "id": "Cof6_B0Oa4Yd"
      },
      "execution_count": null,
      "outputs": []
    },
    {
      "cell_type": "code",
      "source": [
        "model = Model(inputs=inputs, outputs=[hate_output, fake_output])\n",
        "\n",
        "model.compile(optimizer='adam', loss='binary_crossentropy', metrics=['accuracy'])"
      ],
      "metadata": {
        "id": "1BDwylL1a7gf"
      },
      "execution_count": null,
      "outputs": []
    },
    {
      "cell_type": "code",
      "source": [
        "model.summary()"
      ],
      "metadata": {
        "colab": {
          "base_uri": "https://localhost:8080/"
        },
        "id": "om4Ar43XbC9A",
        "outputId": "5cca2194-fca1-4214-a400-694d820d81e8"
      },
      "execution_count": null,
      "outputs": [
        {
          "output_type": "stream",
          "name": "stdout",
          "text": [
            "Model: \"model\"\n",
            "__________________________________________________________________________________________________\n",
            " Layer (type)                   Output Shape         Param #     Connected to                     \n",
            "==================================================================================================\n",
            " input_layer (InputLayer)       [(None, 50)]         0           []                               \n",
            "                                                                                                  \n",
            " embedding (Embedding)          (None, 50, 100)      2015900     ['input_layer[0][0]']            \n",
            "                                                                                                  \n",
            " bidirectional (Bidirectional)  (None, 128)          84480       ['embedding[0][0]']              \n",
            "                                                                                                  \n",
            " hate_output (Dense)            (None, 1)            129         ['bidirectional[0][0]']          \n",
            "                                                                                                  \n",
            " fake_output (Dense)            (None, 1)            129         ['bidirectional[0][0]']          \n",
            "                                                                                                  \n",
            "==================================================================================================\n",
            "Total params: 2,100,638\n",
            "Trainable params: 2,100,638\n",
            "Non-trainable params: 0\n",
            "__________________________________________________________________________________________________\n"
          ]
        }
      ]
    },
    {
      "cell_type": "code",
      "source": [
        "from sklearn.model_selection import train_test_split\n",
        "\n",
        "X = padded_sequences\n",
        "\n",
        "X_train, X_test, y_hate_train, y_hate_test, y_fake_train, y_fake_test = train_test_split(X, y_hate, y_fake, test_size=0.2, random_state=42)\n",
        "\n",
        "\n",
        "print(\"Shape of X_train:\", X_train.shape)\n",
        "print(\"Shape of X_test:\", X_test.shape)\n",
        "print(\"Shape of y_hate_train:\", y_hate_train.shape)\n",
        "print(\"Shape of y_hate_test:\", y_hate_test.shape)\n",
        "print(\"Shape of y_fake_train:\", y_fake_train.shape)\n",
        "print(\"Shape of y_fake_test:\", y_fake_test.shape)\n"
      ],
      "metadata": {
        "colab": {
          "base_uri": "https://localhost:8080/"
        },
        "id": "JNG6O6d1bTac",
        "outputId": "bf7a4db9-f9b5-4b43-d8ae-e23df08a52cb"
      },
      "execution_count": null,
      "outputs": [
        {
          "output_type": "stream",
          "name": "stdout",
          "text": [
            "Shape of X_train: (8372, 50)\n",
            "Shape of X_test: (2094, 50)\n",
            "Shape of y1_train: (8372,)\n",
            "Shape of y1_test: (2094,)\n",
            "Shape of y2_train: (8372,)\n",
            "Shape of y2_test: (2094,)\n"
          ]
        }
      ]
    },
    {
      "cell_type": "code",
      "source": [
        "history = model.fit(X_train, [y_hate_train, y_fake_train], epochs=10, batch_size=32)"
      ],
      "metadata": {
        "colab": {
          "base_uri": "https://localhost:8080/"
        },
        "id": "aF3-RO3MceNq",
        "outputId": "beff84c3-272f-4405-db76-25a47fe2356c"
      },
      "execution_count": null,
      "outputs": [
        {
          "output_type": "stream",
          "name": "stdout",
          "text": [
            "Epoch 1/10\n",
            "262/262 [==============================] - 70s 239ms/step - loss: 0.9978 - hate_output_loss: 0.3843 - fake_output_loss: 0.6136 - hate_output_accuracy: 0.8329 - fake_output_accuracy: 0.6515\n",
            "Epoch 2/10\n",
            "262/262 [==============================] - 65s 247ms/step - loss: 0.8971 - hate_output_loss: 0.3406 - fake_output_loss: 0.5565 - hate_output_accuracy: 0.8447 - fake_output_accuracy: 0.6940\n",
            "Epoch 3/10\n",
            "262/262 [==============================] - 62s 237ms/step - loss: 0.8855 - hate_output_loss: 0.3357 - fake_output_loss: 0.5498 - hate_output_accuracy: 0.8471 - fake_output_accuracy: 0.7005\n",
            "Epoch 4/10\n",
            "262/262 [==============================] - 61s 235ms/step - loss: 0.8772 - hate_output_loss: 0.3312 - fake_output_loss: 0.5460 - hate_output_accuracy: 0.8525 - fake_output_accuracy: 0.7064\n",
            "Epoch 5/10\n",
            "262/262 [==============================] - 61s 231ms/step - loss: 0.8682 - hate_output_loss: 0.3271 - fake_output_loss: 0.5410 - hate_output_accuracy: 0.8551 - fake_output_accuracy: 0.7091\n",
            "Epoch 6/10\n",
            "262/262 [==============================] - 64s 245ms/step - loss: 0.8619 - hate_output_loss: 0.3248 - fake_output_loss: 0.5371 - hate_output_accuracy: 0.8559 - fake_output_accuracy: 0.7103\n",
            "Epoch 7/10\n",
            "262/262 [==============================] - 63s 242ms/step - loss: 0.8540 - hate_output_loss: 0.3217 - fake_output_loss: 0.5323 - hate_output_accuracy: 0.8558 - fake_output_accuracy: 0.7150\n",
            "Epoch 8/10\n",
            "262/262 [==============================] - 64s 244ms/step - loss: 0.8500 - hate_output_loss: 0.3193 - fake_output_loss: 0.5307 - hate_output_accuracy: 0.8607 - fake_output_accuracy: 0.7145\n",
            "Epoch 9/10\n",
            "262/262 [==============================] - 63s 243ms/step - loss: 0.8424 - hate_output_loss: 0.3159 - fake_output_loss: 0.5265 - hate_output_accuracy: 0.8602 - fake_output_accuracy: 0.7185\n",
            "Epoch 10/10\n",
            "262/262 [==============================] - 64s 245ms/step - loss: 0.8401 - hate_output_loss: 0.3149 - fake_output_loss: 0.5251 - hate_output_accuracy: 0.8604 - fake_output_accuracy: 0.7224\n"
          ]
        }
      ]
    },
    {
      "cell_type": "code",
      "source": [],
      "metadata": {
        "id": "T16kUuvvc2dF"
      },
      "execution_count": null,
      "outputs": []
    }
  ]
}